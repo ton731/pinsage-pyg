{
 "cells": [
  {
   "cell_type": "code",
   "execution_count": 1,
   "metadata": {},
   "outputs": [],
   "source": [
    "import torch\n",
    "from torch_geometric.data import HeteroData\n",
    "import torch_geometric.transforms as T"
   ]
  },
  {
   "attachments": {},
   "cell_type": "markdown",
   "metadata": {},
   "source": [
    "reference: https://pytorch-geometric.readthedocs.io/en/latest/tutorial/heterogeneous.html"
   ]
  },
  {
   "attachments": {},
   "cell_type": "markdown",
   "metadata": {},
   "source": [
    "### Creating Heterogeneous Graph"
   ]
  },
  {
   "cell_type": "code",
   "execution_count": 2,
   "metadata": {},
   "outputs": [
    {
     "name": "stdout",
     "output_type": "stream",
     "text": [
      "HeteroData(\n",
      "  \u001b[1muser\u001b[0m={ x=[10, 5] },\n",
      "  \u001b[1mitem\u001b[0m={ x=[100, 7] },\n",
      "  \u001b[1m(user, buys, item)\u001b[0m={\n",
      "    edge_index=[2, 100],\n",
      "    edge_attr=[100, 3]\n",
      "  },\n",
      "  \u001b[1m(item, rev_buys, user)\u001b[0m={\n",
      "    edge_index=[2, 100],\n",
      "    edge_attr=[100, 3]\n",
      "  }\n",
      ")\n"
     ]
    }
   ],
   "source": [
    "data = HeteroData()\n",
    "\n",
    "num_users = 10\n",
    "num_items = 100\n",
    "num_features_user = 5\n",
    "num_features_item = 7\n",
    "num_transactions = 100\n",
    "num_features_transaction = 3\n",
    "\n",
    "data['user'].x = torch.rand((num_users, num_features_user))\n",
    "data['item'].x = torch.rand((num_items, num_features_item))\n",
    "\n",
    "data['user', 'buys', 'item'].edge_index = torch.stack([\n",
    "    torch.randint(high=num_users, size=(num_transactions,)),\n",
    "    torch.randint(high=num_items, size=(num_transactions,))\n",
    "])\n",
    "\n",
    "data['user', 'buys', 'item'].edge_attr = torch.rand((num_transactions, num_features_transaction))\n",
    "\n",
    "data = T.ToUndirected()(data)\n",
    "\n",
    "print(data)"
   ]
  },
  {
   "attachments": {},
   "cell_type": "markdown",
   "metadata": {},
   "source": [
    "### Creating Heterogeneous GNNs\n",
    "PyG provides three ways to create models on heterogenrous graph data:\n",
    "1. `torch_geometric.nn.to_hetero()` to convert model\n",
    "2. `conv.HeteroConv` to define individual functions for different types\n",
    "3. Deploy existing heterogeneous GNN operators\n",
    "\n",
    "For me, the second one is more clear and easy to understand, so I will use it in the following exampe."
   ]
  },
  {
   "cell_type": "code",
   "execution_count": 9,
   "metadata": {},
   "outputs": [
    {
     "name": "stdout",
     "output_type": "stream",
     "text": [
      "HeteroGNN(\n",
      "  (lin_proj_user): Linear(in_features=5, out_features=32, bias=True)\n",
      "  (lin_proj_item): Linear(in_features=7, out_features=32, bias=True)\n",
      "  (convs): ModuleList(\n",
      "    (0): HeteroConv(num_relations=2)\n",
      "    (1): HeteroConv(num_relations=2)\n",
      "  )\n",
      "  (trans_user): Linear(in_features=32, out_features=32, bias=True)\n",
      "  (trans_item): Linear(in_features=32, out_features=32, bias=True)\n",
      ")\n"
     ]
    }
   ],
   "source": [
    "from torch.nn import Linear\n",
    "from torch_geometric.nn import HeteroConv, SAGEConv, GATv2Conv\n",
    "\n",
    "class HeteroGNN(torch.nn.Module):\n",
    "    def __init__(self, user_dim, item_dim, transaction_dim, hidden_dim, output_dim, num_layers):\n",
    "        super().__init__()\n",
    "        \n",
    "        self.lin_proj_user = Linear(user_dim, hidden_dim)\n",
    "        self.lin_proj_item = Linear(item_dim, hidden_dim)\n",
    "        \n",
    "        self.convs = torch.nn.ModuleList()\n",
    "        for _ in range(num_layers):\n",
    "            conv = HeteroConv({\n",
    "                # ('user', 'buys', 'item'): SAGEConv(hidden_dim, hidden_dim),\n",
    "                ('user', 'buys', 'item'): GATv2Conv(hidden_dim, hidden_dim, heads=2, edge_dim=transaction_dim),\n",
    "                ('item', 'rev_buys', 'user'): GATv2Conv(hidden_dim, hidden_dim, heads=2, edge_dim=transaction_dim)\n",
    "                # ('item', 'rev_buys', 'user'): GATv2Conv(hidden_dim, hidden_dim,)\n",
    "            })\n",
    "            self.convs.append(conv)\n",
    "        \n",
    "        self.trans_user = Linear(hidden_dim, output_dim)\n",
    "        self.trans_item = Linear(hidden_dim, output_dim)\n",
    "    \n",
    "    def forward(self, x_dict, edge_index_dict, edge_attr_dict):\n",
    "        # linear projections\n",
    "        for node_type, x in x_dict.items():\n",
    "            if node_type == 'user':\n",
    "                x_dict[node_type] = self.lin_proj_user(x)\n",
    "            elif node_type == 'item':\n",
    "                x_dict[node_type] = self.lin_proj_item(x)\n",
    "        \n",
    "        # message passing convolutions\n",
    "        for conv in self.convs:\n",
    "            x_dict = conv(x_dict, edge_index_dict, **{'edge_attr_dict': edge_attr_dict})\n",
    "            # x_dict = conv(x_dict, edge_index_dict, \n",
    "            #               **{'edge_type1': edge_attr_dict[('user', 'buys', 'item')],\n",
    "            #                'edge_type2': edge_attr_dict[('item', 'rev_buys', 'user')]})\n",
    "            # x_dict = conv(x_dict, edge_index_dict, **edge_attr_dict)\n",
    "            # x_dict = conv(x_dict, edge_index_dict)\n",
    "            x_dict = {node_type: x.relu() for node_type, x in x_dict.items()}\n",
    "        \n",
    "        # final transformation\n",
    "        for node_type, x in x_dict.items():\n",
    "            if node_type == 'user':\n",
    "                x_dict[node_type] = self.trans_user(x)\n",
    "            elif node_type == 'item':\n",
    "                x_dict[node_type] = self.trans_item(x)\n",
    "        \n",
    "        return x_dict\n",
    "\n",
    "\n",
    "model_kwargs = {\n",
    "    'user_dim': num_features_user,\n",
    "    'item_dim': num_features_item,\n",
    "    'transaction_dim': num_features_transaction,\n",
    "    'hidden_dim': 32,\n",
    "    'output_dim': 32,\n",
    "    'num_layers': 2\n",
    "}\n",
    "model = HeteroGNN(**model_kwargs)\n",
    "print(model)"
   ]
  },
  {
   "cell_type": "code",
   "execution_count": 10,
   "metadata": {},
   "outputs": [
    {
     "name": "stdout",
     "output_type": "stream",
     "text": [
      "current edge type: ('user', 'buys', 'item')\n",
      "kwargs_dict:\n",
      "dict_keys(['edge_attr_dict'])\n"
     ]
    },
    {
     "ename": "RuntimeError",
     "evalue": "index 59 is out of bounds for dimension 0 with size 10",
     "output_type": "error",
     "traceback": [
      "\u001b[0;31m---------------------------------------------------------------------------\u001b[0m",
      "\u001b[0;31mRuntimeError\u001b[0m                              Traceback (most recent call last)",
      "\u001b[1;32m/Users/tony/Desktop/pinsage-pyg/develop.ipynb Cell 8\u001b[0m in \u001b[0;36m<cell line: 1>\u001b[0;34m()\u001b[0m\n\u001b[0;32m----> <a href='vscode-notebook-cell:/Users/tony/Desktop/pinsage-pyg/develop.ipynb#X10sZmlsZQ%3D%3D?line=0'>1</a>\u001b[0m output \u001b[39m=\u001b[39m model(data\u001b[39m.\u001b[39;49mx_dict, data\u001b[39m.\u001b[39;49medge_index_dict, data\u001b[39m.\u001b[39;49medge_attr_dict)\n",
      "File \u001b[0;32m/opt/miniconda3/envs/pytorch/lib/python3.8/site-packages/torch/nn/modules/module.py:1130\u001b[0m, in \u001b[0;36mModule._call_impl\u001b[0;34m(self, *input, **kwargs)\u001b[0m\n\u001b[1;32m   1126\u001b[0m \u001b[39m# If we don't have any hooks, we want to skip the rest of the logic in\u001b[39;00m\n\u001b[1;32m   1127\u001b[0m \u001b[39m# this function, and just call forward.\u001b[39;00m\n\u001b[1;32m   1128\u001b[0m \u001b[39mif\u001b[39;00m \u001b[39mnot\u001b[39;00m (\u001b[39mself\u001b[39m\u001b[39m.\u001b[39m_backward_hooks \u001b[39mor\u001b[39;00m \u001b[39mself\u001b[39m\u001b[39m.\u001b[39m_forward_hooks \u001b[39mor\u001b[39;00m \u001b[39mself\u001b[39m\u001b[39m.\u001b[39m_forward_pre_hooks \u001b[39mor\u001b[39;00m _global_backward_hooks\n\u001b[1;32m   1129\u001b[0m         \u001b[39mor\u001b[39;00m _global_forward_hooks \u001b[39mor\u001b[39;00m _global_forward_pre_hooks):\n\u001b[0;32m-> 1130\u001b[0m     \u001b[39mreturn\u001b[39;00m forward_call(\u001b[39m*\u001b[39;49m\u001b[39minput\u001b[39;49m, \u001b[39m*\u001b[39;49m\u001b[39m*\u001b[39;49mkwargs)\n\u001b[1;32m   1131\u001b[0m \u001b[39m# Do not call functions when jit is used\u001b[39;00m\n\u001b[1;32m   1132\u001b[0m full_backward_hooks, non_full_backward_hooks \u001b[39m=\u001b[39m [], []\n",
      "\u001b[1;32m/Users/tony/Desktop/pinsage-pyg/develop.ipynb Cell 8\u001b[0m in \u001b[0;36mHeteroGNN.forward\u001b[0;34m(self, x_dict, edge_index_dict, edge_attr_dict)\u001b[0m\n\u001b[1;32m     <a href='vscode-notebook-cell:/Users/tony/Desktop/pinsage-pyg/develop.ipynb#X10sZmlsZQ%3D%3D?line=31'>32</a>\u001b[0m \u001b[39m# message passing convolutions\u001b[39;00m\n\u001b[1;32m     <a href='vscode-notebook-cell:/Users/tony/Desktop/pinsage-pyg/develop.ipynb#X10sZmlsZQ%3D%3D?line=32'>33</a>\u001b[0m \u001b[39mfor\u001b[39;00m conv \u001b[39min\u001b[39;00m \u001b[39mself\u001b[39m\u001b[39m.\u001b[39mconvs:\n\u001b[0;32m---> <a href='vscode-notebook-cell:/Users/tony/Desktop/pinsage-pyg/develop.ipynb#X10sZmlsZQ%3D%3D?line=33'>34</a>\u001b[0m     x_dict \u001b[39m=\u001b[39m conv(x_dict, edge_index_dict, \u001b[39m*\u001b[39;49m\u001b[39m*\u001b[39;49m{\u001b[39m'\u001b[39;49m\u001b[39medge_attr_dict\u001b[39;49m\u001b[39m'\u001b[39;49m: edge_attr_dict})\n\u001b[1;32m     <a href='vscode-notebook-cell:/Users/tony/Desktop/pinsage-pyg/develop.ipynb#X10sZmlsZQ%3D%3D?line=34'>35</a>\u001b[0m     \u001b[39m# x_dict = conv(x_dict, edge_index_dict, \u001b[39;00m\n\u001b[1;32m     <a href='vscode-notebook-cell:/Users/tony/Desktop/pinsage-pyg/develop.ipynb#X10sZmlsZQ%3D%3D?line=35'>36</a>\u001b[0m     \u001b[39m#               **{'edge_type1': edge_attr_dict[('user', 'buys', 'item')],\u001b[39;00m\n\u001b[1;32m     <a href='vscode-notebook-cell:/Users/tony/Desktop/pinsage-pyg/develop.ipynb#X10sZmlsZQ%3D%3D?line=36'>37</a>\u001b[0m     \u001b[39m#                'edge_type2': edge_attr_dict[('item', 'rev_buys', 'user')]})\u001b[39;00m\n\u001b[1;32m     <a href='vscode-notebook-cell:/Users/tony/Desktop/pinsage-pyg/develop.ipynb#X10sZmlsZQ%3D%3D?line=37'>38</a>\u001b[0m     \u001b[39m# x_dict = conv(x_dict, edge_index_dict, **edge_attr_dict)\u001b[39;00m\n\u001b[1;32m     <a href='vscode-notebook-cell:/Users/tony/Desktop/pinsage-pyg/develop.ipynb#X10sZmlsZQ%3D%3D?line=38'>39</a>\u001b[0m     \u001b[39m# x_dict = conv(x_dict, edge_index_dict)\u001b[39;00m\n\u001b[1;32m     <a href='vscode-notebook-cell:/Users/tony/Desktop/pinsage-pyg/develop.ipynb#X10sZmlsZQ%3D%3D?line=39'>40</a>\u001b[0m     x_dict \u001b[39m=\u001b[39m {node_type: x\u001b[39m.\u001b[39mrelu() \u001b[39mfor\u001b[39;00m node_type, x \u001b[39min\u001b[39;00m x_dict\u001b[39m.\u001b[39mitems()}\n",
      "File \u001b[0;32m/opt/miniconda3/envs/pytorch/lib/python3.8/site-packages/torch/nn/modules/module.py:1130\u001b[0m, in \u001b[0;36mModule._call_impl\u001b[0;34m(self, *input, **kwargs)\u001b[0m\n\u001b[1;32m   1126\u001b[0m \u001b[39m# If we don't have any hooks, we want to skip the rest of the logic in\u001b[39;00m\n\u001b[1;32m   1127\u001b[0m \u001b[39m# this function, and just call forward.\u001b[39;00m\n\u001b[1;32m   1128\u001b[0m \u001b[39mif\u001b[39;00m \u001b[39mnot\u001b[39;00m (\u001b[39mself\u001b[39m\u001b[39m.\u001b[39m_backward_hooks \u001b[39mor\u001b[39;00m \u001b[39mself\u001b[39m\u001b[39m.\u001b[39m_forward_hooks \u001b[39mor\u001b[39;00m \u001b[39mself\u001b[39m\u001b[39m.\u001b[39m_forward_pre_hooks \u001b[39mor\u001b[39;00m _global_backward_hooks\n\u001b[1;32m   1129\u001b[0m         \u001b[39mor\u001b[39;00m _global_forward_hooks \u001b[39mor\u001b[39;00m _global_forward_pre_hooks):\n\u001b[0;32m-> 1130\u001b[0m     \u001b[39mreturn\u001b[39;00m forward_call(\u001b[39m*\u001b[39;49m\u001b[39minput\u001b[39;49m, \u001b[39m*\u001b[39;49m\u001b[39m*\u001b[39;49mkwargs)\n\u001b[1;32m   1131\u001b[0m \u001b[39m# Do not call functions when jit is used\u001b[39;00m\n\u001b[1;32m   1132\u001b[0m full_backward_hooks, non_full_backward_hooks \u001b[39m=\u001b[39m [], []\n",
      "File \u001b[0;32m/opt/miniconda3/envs/pytorch/lib/python3.8/site-packages/torch_geometric/nn/conv/hetero_conv.py:128\u001b[0m, in \u001b[0;36mHeteroConv.forward\u001b[0;34m(self, x_dict, edge_index_dict, *args_dict, **kwargs_dict)\u001b[0m\n\u001b[1;32m    126\u001b[0m         out \u001b[39m=\u001b[39m conv(x_dict[src], edge_index, \u001b[39m*\u001b[39margs, \u001b[39m*\u001b[39m\u001b[39m*\u001b[39mkwargs)\n\u001b[1;32m    127\u001b[0m     \u001b[39melse\u001b[39;00m:\n\u001b[0;32m--> 128\u001b[0m         out \u001b[39m=\u001b[39m conv((x_dict[src], x_dict[dst]), edge_index, \u001b[39m*\u001b[39;49margs,\n\u001b[1;32m    129\u001b[0m                    \u001b[39m*\u001b[39;49m\u001b[39m*\u001b[39;49mkwargs)\n\u001b[1;32m    131\u001b[0m     out_dict[dst]\u001b[39m.\u001b[39mappend(out)\n\u001b[1;32m    133\u001b[0m \u001b[39mfor\u001b[39;00m key, value \u001b[39min\u001b[39;00m out_dict\u001b[39m.\u001b[39mitems():\n",
      "File \u001b[0;32m/opt/miniconda3/envs/pytorch/lib/python3.8/site-packages/torch/nn/modules/module.py:1130\u001b[0m, in \u001b[0;36mModule._call_impl\u001b[0;34m(self, *input, **kwargs)\u001b[0m\n\u001b[1;32m   1126\u001b[0m \u001b[39m# If we don't have any hooks, we want to skip the rest of the logic in\u001b[39;00m\n\u001b[1;32m   1127\u001b[0m \u001b[39m# this function, and just call forward.\u001b[39;00m\n\u001b[1;32m   1128\u001b[0m \u001b[39mif\u001b[39;00m \u001b[39mnot\u001b[39;00m (\u001b[39mself\u001b[39m\u001b[39m.\u001b[39m_backward_hooks \u001b[39mor\u001b[39;00m \u001b[39mself\u001b[39m\u001b[39m.\u001b[39m_forward_hooks \u001b[39mor\u001b[39;00m \u001b[39mself\u001b[39m\u001b[39m.\u001b[39m_forward_pre_hooks \u001b[39mor\u001b[39;00m _global_backward_hooks\n\u001b[1;32m   1129\u001b[0m         \u001b[39mor\u001b[39;00m _global_forward_hooks \u001b[39mor\u001b[39;00m _global_forward_pre_hooks):\n\u001b[0;32m-> 1130\u001b[0m     \u001b[39mreturn\u001b[39;00m forward_call(\u001b[39m*\u001b[39;49m\u001b[39minput\u001b[39;49m, \u001b[39m*\u001b[39;49m\u001b[39m*\u001b[39;49mkwargs)\n\u001b[1;32m   1131\u001b[0m \u001b[39m# Do not call functions when jit is used\u001b[39;00m\n\u001b[1;32m   1132\u001b[0m full_backward_hooks, non_full_backward_hooks \u001b[39m=\u001b[39m [], []\n",
      "File \u001b[0;32m/opt/miniconda3/envs/pytorch/lib/python3.8/site-packages/torch_geometric/nn/conv/gatv2_conv.py:222\u001b[0m, in \u001b[0;36mGATv2Conv.forward\u001b[0;34m(self, x, edge_index, edge_attr, return_attention_weights)\u001b[0m\n\u001b[1;32m    219\u001b[0m         num_nodes \u001b[39m=\u001b[39m \u001b[39mmin\u001b[39m(num_nodes, x_r\u001b[39m.\u001b[39msize(\u001b[39m0\u001b[39m))\n\u001b[1;32m    220\u001b[0m     edge_index, edge_attr \u001b[39m=\u001b[39m remove_self_loops(\n\u001b[1;32m    221\u001b[0m         edge_index, edge_attr)\n\u001b[0;32m--> 222\u001b[0m     edge_index, edge_attr \u001b[39m=\u001b[39m add_self_loops(\n\u001b[1;32m    223\u001b[0m         edge_index, edge_attr, fill_value\u001b[39m=\u001b[39;49m\u001b[39mself\u001b[39;49m\u001b[39m.\u001b[39;49mfill_value,\n\u001b[1;32m    224\u001b[0m         num_nodes\u001b[39m=\u001b[39;49mnum_nodes)\n\u001b[1;32m    225\u001b[0m \u001b[39melif\u001b[39;00m \u001b[39misinstance\u001b[39m(edge_index, SparseTensor):\n\u001b[1;32m    226\u001b[0m     \u001b[39mif\u001b[39;00m \u001b[39mself\u001b[39m\u001b[39m.\u001b[39medge_dim \u001b[39mis\u001b[39;00m \u001b[39mNone\u001b[39;00m:\n",
      "File \u001b[0;32m/opt/miniconda3/envs/pytorch/lib/python3.8/site-packages/torch_geometric/utils/loop.py:138\u001b[0m, in \u001b[0;36madd_self_loops\u001b[0;34m(edge_index, edge_attr, fill_value, num_nodes)\u001b[0m\n\u001b[1;32m    135\u001b[0m     loop_attr \u001b[39m=\u001b[39m loop_attr\u001b[39m.\u001b[39mrepeat(\u001b[39m*\u001b[39msizes)\n\u001b[1;32m    137\u001b[0m \u001b[39melif\u001b[39;00m \u001b[39misinstance\u001b[39m(fill_value, \u001b[39mstr\u001b[39m):\n\u001b[0;32m--> 138\u001b[0m     loop_attr \u001b[39m=\u001b[39m scatter(edge_attr, edge_index[\u001b[39m1\u001b[39;49m], dim\u001b[39m=\u001b[39;49m\u001b[39m0\u001b[39;49m, dim_size\u001b[39m=\u001b[39;49mN,\n\u001b[1;32m    139\u001b[0m                         reduce\u001b[39m=\u001b[39;49mfill_value)\n\u001b[1;32m    140\u001b[0m \u001b[39melse\u001b[39;00m:\n\u001b[1;32m    141\u001b[0m     \u001b[39mraise\u001b[39;00m \u001b[39mAttributeError\u001b[39;00m(\u001b[39m\"\u001b[39m\u001b[39mNo valid \u001b[39m\u001b[39m'\u001b[39m\u001b[39mfill_value\u001b[39m\u001b[39m'\u001b[39m\u001b[39m provided\u001b[39m\u001b[39m\"\u001b[39m)\n",
      "File \u001b[0;32m/opt/miniconda3/envs/pytorch/lib/python3.8/site-packages/torch_scatter/scatter.py:156\u001b[0m, in \u001b[0;36mscatter\u001b[0;34m(src, index, dim, out, dim_size, reduce)\u001b[0m\n\u001b[1;32m    154\u001b[0m     \u001b[39mreturn\u001b[39;00m scatter_mul(src, index, dim, out, dim_size)\n\u001b[1;32m    155\u001b[0m \u001b[39melif\u001b[39;00m reduce \u001b[39m==\u001b[39m \u001b[39m'\u001b[39m\u001b[39mmean\u001b[39m\u001b[39m'\u001b[39m:\n\u001b[0;32m--> 156\u001b[0m     \u001b[39mreturn\u001b[39;00m scatter_mean(src, index, dim, out, dim_size)\n\u001b[1;32m    157\u001b[0m \u001b[39melif\u001b[39;00m reduce \u001b[39m==\u001b[39m \u001b[39m'\u001b[39m\u001b[39mmin\u001b[39m\u001b[39m'\u001b[39m:\n\u001b[1;32m    158\u001b[0m     \u001b[39mreturn\u001b[39;00m scatter_min(src, index, dim, out, dim_size)[\u001b[39m0\u001b[39m]\n",
      "File \u001b[0;32m/opt/miniconda3/envs/pytorch/lib/python3.8/site-packages/torch_scatter/scatter.py:41\u001b[0m, in \u001b[0;36mscatter_mean\u001b[0;34m(src, index, dim, out, dim_size)\u001b[0m\n\u001b[1;32m     38\u001b[0m \u001b[39mdef\u001b[39;00m \u001b[39mscatter_mean\u001b[39m(src: torch\u001b[39m.\u001b[39mTensor, index: torch\u001b[39m.\u001b[39mTensor, dim: \u001b[39mint\u001b[39m \u001b[39m=\u001b[39m \u001b[39m-\u001b[39m\u001b[39m1\u001b[39m,\n\u001b[1;32m     39\u001b[0m                  out: Optional[torch\u001b[39m.\u001b[39mTensor] \u001b[39m=\u001b[39m \u001b[39mNone\u001b[39;00m,\n\u001b[1;32m     40\u001b[0m                  dim_size: Optional[\u001b[39mint\u001b[39m] \u001b[39m=\u001b[39m \u001b[39mNone\u001b[39;00m) \u001b[39m-\u001b[39m\u001b[39m>\u001b[39m torch\u001b[39m.\u001b[39mTensor:\n\u001b[0;32m---> 41\u001b[0m     out \u001b[39m=\u001b[39m scatter_sum(src, index, dim, out, dim_size)\n\u001b[1;32m     42\u001b[0m     dim_size \u001b[39m=\u001b[39m out\u001b[39m.\u001b[39msize(dim)\n\u001b[1;32m     44\u001b[0m     index_dim \u001b[39m=\u001b[39m dim\n",
      "File \u001b[0;32m/opt/miniconda3/envs/pytorch/lib/python3.8/site-packages/torch_scatter/scatter.py:21\u001b[0m, in \u001b[0;36mscatter_sum\u001b[0;34m(src, index, dim, out, dim_size)\u001b[0m\n\u001b[1;32m     19\u001b[0m         size[dim] \u001b[39m=\u001b[39m \u001b[39mint\u001b[39m(index\u001b[39m.\u001b[39mmax()) \u001b[39m+\u001b[39m \u001b[39m1\u001b[39m\n\u001b[1;32m     20\u001b[0m     out \u001b[39m=\u001b[39m torch\u001b[39m.\u001b[39mzeros(size, dtype\u001b[39m=\u001b[39msrc\u001b[39m.\u001b[39mdtype, device\u001b[39m=\u001b[39msrc\u001b[39m.\u001b[39mdevice)\n\u001b[0;32m---> 21\u001b[0m     \u001b[39mreturn\u001b[39;00m out\u001b[39m.\u001b[39;49mscatter_add_(dim, index, src)\n\u001b[1;32m     22\u001b[0m \u001b[39melse\u001b[39;00m:\n\u001b[1;32m     23\u001b[0m     \u001b[39mreturn\u001b[39;00m out\u001b[39m.\u001b[39mscatter_add_(dim, index, src)\n",
      "\u001b[0;31mRuntimeError\u001b[0m: index 59 is out of bounds for dimension 0 with size 10"
     ]
    }
   ],
   "source": [
    "output = model(data.x_dict, data.edge_index_dict, data.edge_attr_dict)"
   ]
  },
  {
   "cell_type": "code",
   "execution_count": null,
   "metadata": {},
   "outputs": [],
   "source": [
    "print(output['item'].shape)\n",
    "print(output['user'].shape)"
   ]
  },
  {
   "cell_type": "code",
   "execution_count": null,
   "metadata": {},
   "outputs": [],
   "source": []
  },
  {
   "cell_type": "code",
   "execution_count": 12,
   "metadata": {},
   "outputs": [
    {
     "data": {
      "text/plain": [
       "tensor([[ 2,  2,  6,  4,  3,  0,  3,  8,  1,  7,  4,  4,  1,  4,  8,  1,  0,  3,\n",
       "          7,  8,  6,  2,  6,  9,  9,  5,  7,  0,  8,  5,  1,  4,  6,  8,  2,  2,\n",
       "          3,  3,  9,  8,  5,  4,  6,  7,  5,  6,  1,  3,  7,  1,  6,  6,  5,  7,\n",
       "          5,  4,  9,  2,  3,  5,  5,  3,  9,  9,  9,  4,  5,  2,  4,  2,  7,  0,\n",
       "          9,  6,  6,  7,  4,  7,  1,  9,  3,  5,  5,  2,  1,  8,  3,  9,  6,  2,\n",
       "          3,  8,  0,  0,  6,  1,  2,  5,  5,  2],\n",
       "        [59, 40,  0, 72, 19, 81, 72, 97, 75, 96, 86, 12, 69, 35, 40, 72, 73, 29,\n",
       "         46, 18, 32, 49, 66, 37, 41, 86, 80, 70, 82,  2, 45, 28, 46, 46, 98, 61,\n",
       "         61,  3, 19, 33, 39, 32, 21, 93, 92,  9, 31, 49, 90, 98, 25, 31, 74, 41,\n",
       "         19, 52,  9, 81,  9, 84, 25, 57, 36, 51, 16, 38, 46, 94, 42, 61, 77, 41,\n",
       "         43, 32, 98,  8,  7,  5, 32, 15, 24, 38, 44,  8, 31, 50, 42, 58, 99, 22,\n",
       "         78, 89, 53, 19,  3, 61, 59, 73, 28, 15]])"
      ]
     },
     "execution_count": 12,
     "metadata": {},
     "output_type": "execute_result"
    }
   ],
   "source": [
    "data.edge_index_dict[('user', 'buys', 'item')]"
   ]
  },
  {
   "cell_type": "code",
   "execution_count": 13,
   "metadata": {},
   "outputs": [
    {
     "data": {
      "text/plain": [
       "tensor([[59, 40,  0, 72, 19, 81, 72, 97, 75, 96, 86, 12, 69, 35, 40, 72, 73, 29,\n",
       "         46, 18, 32, 49, 66, 37, 41, 86, 80, 70, 82,  2, 45, 28, 46, 46, 98, 61,\n",
       "         61,  3, 19, 33, 39, 32, 21, 93, 92,  9, 31, 49, 90, 98, 25, 31, 74, 41,\n",
       "         19, 52,  9, 81,  9, 84, 25, 57, 36, 51, 16, 38, 46, 94, 42, 61, 77, 41,\n",
       "         43, 32, 98,  8,  7,  5, 32, 15, 24, 38, 44,  8, 31, 50, 42, 58, 99, 22,\n",
       "         78, 89, 53, 19,  3, 61, 59, 73, 28, 15],\n",
       "        [ 2,  2,  6,  4,  3,  0,  3,  8,  1,  7,  4,  4,  1,  4,  8,  1,  0,  3,\n",
       "          7,  8,  6,  2,  6,  9,  9,  5,  7,  0,  8,  5,  1,  4,  6,  8,  2,  2,\n",
       "          3,  3,  9,  8,  5,  4,  6,  7,  5,  6,  1,  3,  7,  1,  6,  6,  5,  7,\n",
       "          5,  4,  9,  2,  3,  5,  5,  3,  9,  9,  9,  4,  5,  2,  4,  2,  7,  0,\n",
       "          9,  6,  6,  7,  4,  7,  1,  9,  3,  5,  5,  2,  1,  8,  3,  9,  6,  2,\n",
       "          3,  8,  0,  0,  6,  1,  2,  5,  5,  2]])"
      ]
     },
     "execution_count": 13,
     "metadata": {},
     "output_type": "execute_result"
    }
   ],
   "source": [
    "data.edge_index_dict[('item', 'rev_buys', 'user')]"
   ]
  },
  {
   "cell_type": "code",
   "execution_count": null,
   "metadata": {},
   "outputs": [],
   "source": []
  }
 ],
 "metadata": {
  "kernelspec": {
   "display_name": "pytorch",
   "language": "python",
   "name": "python3"
  },
  "language_info": {
   "codemirror_mode": {
    "name": "ipython",
    "version": 3
   },
   "file_extension": ".py",
   "mimetype": "text/x-python",
   "name": "python",
   "nbconvert_exporter": "python",
   "pygments_lexer": "ipython3",
   "version": "3.8.13"
  },
  "orig_nbformat": 4
 },
 "nbformat": 4,
 "nbformat_minor": 2
}
