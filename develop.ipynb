{
 "cells": [
  {
   "cell_type": "code",
   "execution_count": 39,
   "metadata": {},
   "outputs": [],
   "source": [
    "import torch\n",
    "import torch.nn as nn\n",
    "from torch_geometric.data import HeteroData\n",
    "import torch_geometric.transforms as T"
   ]
  },
  {
   "attachments": {},
   "cell_type": "markdown",
   "metadata": {},
   "source": [
    "reference: https://pytorch-geometric.readthedocs.io/en/latest/tutorial/heterogeneous.html"
   ]
  },
  {
   "attachments": {},
   "cell_type": "markdown",
   "metadata": {},
   "source": [
    "### Creating Heterogeneous Graph"
   ]
  },
  {
   "cell_type": "code",
   "execution_count": 32,
   "metadata": {},
   "outputs": [
    {
     "name": "stdout",
     "output_type": "stream",
     "text": [
      "HeteroData(\n",
      "  \u001b[1muser\u001b[0m={ x=[10, 5] },\n",
      "  \u001b[1mitem\u001b[0m={ x=[100, 7] },\n",
      "  \u001b[1m(user, buys, item)\u001b[0m={\n",
      "    edge_index=[2, 100],\n",
      "    edge_attr=[100, 3],\n",
      "    y=[100]\n",
      "  },\n",
      "  \u001b[1m(item, rev_buys, user)\u001b[0m={\n",
      "    edge_index=[2, 100],\n",
      "    edge_attr=[100, 3],\n",
      "    y=[100]\n",
      "  }\n",
      ")\n"
     ]
    }
   ],
   "source": [
    "data = HeteroData()\n",
    "\n",
    "num_users = 10\n",
    "num_items = 100\n",
    "num_features_user = 5\n",
    "num_features_item = 7\n",
    "num_transactions = 100\n",
    "num_features_transaction = 3\n",
    "\n",
    "data['user'].x = torch.rand((num_users, num_features_user))\n",
    "data['item'].x = torch.rand((num_items, num_features_item))\n",
    "\n",
    "data['user', 'buys', 'item'].edge_index = torch.stack([\n",
    "    torch.randint(high=num_users, size=(num_transactions,)),\n",
    "    torch.randint(high=num_items, size=(num_transactions,))\n",
    "])\n",
    "\n",
    "data['user', 'buys', 'item'].edge_attr = torch.rand((num_transactions, num_features_transaction))\n",
    "data['user', 'buys', 'item'].y = torch.randint(low=1, high=6, size=(num_transactions,)).to(torch.float)\n",
    "\n",
    "data = T.ToUndirected()(data)\n",
    "\n",
    "print(data)"
   ]
  },
  {
   "cell_type": "markdown",
   "metadata": {},
   "source": [
    "### Data Splitting"
   ]
  },
  {
   "cell_type": "code",
   "execution_count": 62,
   "metadata": {},
   "outputs": [],
   "source": [
    "import random\n",
    "from torch_geometric.utils import index_to_mask\n",
    "\n",
    "def edge_splitting(data: HeteroData, split_ratio=[0.7, 0.2, 0.1]) -> HeteroData:\n",
    "    edge_num = data['user', 'buys', 'item'].edge_index.shape[1]\n",
    "    edge_idxs = list(range(edge_num))\n",
    "    random.shuffle(edge_idxs)\n",
    "\n",
    "    # split edge index\n",
    "    train_ratio, valid_ratio, test_ratio = split_ratio\n",
    "    assert abs(train_ratio + valid_ratio + test_ratio - 1.0) < 1e-3, \"The sum ratio of train/valid/test should be 1!\"\n",
    "    train_num = int(edge_num * train_ratio)\n",
    "    valid_num = int(edge_num * valid_ratio)\n",
    "    test_num = edge_num - train_num - valid_num\n",
    "    train_index = torch.tensor(edge_idxs[:train_num])\n",
    "    valid_index = torch.tensor(edge_idxs[train_num:-test_num])\n",
    "    test_index = torch.tensor(edge_idxs[-test_num:])\n",
    "\n",
    "    # convert index to mask\n",
    "    train_mask = index_to_mask(train_index, size=edge_num)\n",
    "    valid_mask = index_to_mask(valid_index, size=edge_num)\n",
    "    test_mask = index_to_mask(test_index, size=edge_num)\n",
    "    assert torch.all((train_mask + valid_mask + test_mask + 0) == torch.ones(edge_num))\n",
    "    data['user', 'buys', 'item'].train_mask = train_mask\n",
    "    data['user', 'buys', 'item'].valid_mask = valid_mask\n",
    "    data['user', 'buys', 'item'].test_mask = test_mask\n",
    "\n",
    "    return data\n"
   ]
  },
  {
   "cell_type": "code",
   "execution_count": 64,
   "metadata": {},
   "outputs": [
    {
     "name": "stdout",
     "output_type": "stream",
     "text": [
      "HeteroData(\n",
      "  \u001b[1muser\u001b[0m={ x=[10, 5] },\n",
      "  \u001b[1mitem\u001b[0m={ x=[100, 7] },\n",
      "  \u001b[1m(user, buys, item)\u001b[0m={\n",
      "    edge_index=[2, 100],\n",
      "    edge_attr=[100, 3],\n",
      "    y=[100],\n",
      "    train_mask=[100],\n",
      "    valid_mask=[100],\n",
      "    test_mask=[100]\n",
      "  },\n",
      "  \u001b[1m(item, rev_buys, user)\u001b[0m={\n",
      "    edge_index=[2, 100],\n",
      "    edge_attr=[100, 3],\n",
      "    y=[100]\n",
      "  }\n",
      ")\n"
     ]
    }
   ],
   "source": [
    "data = edge_splitting(data, [0.7, 0.2, 0.1])\n",
    "print(data)"
   ]
  },
  {
   "attachments": {},
   "cell_type": "markdown",
   "metadata": {},
   "source": [
    "### Creating Heterogeneous GNNs\n",
    "PyG provides three ways to create models on heterogenrous graph data:\n",
    "1. `torch_geometric.nn.to_hetero()` to convert model\n",
    "2. `conv.HeteroConv` to define individual functions for different types\n",
    "3. Deploy existing heterogeneous GNN operators\n",
    "\n",
    "For me, the second one is more clear and easy to understand, so I will use it in the following exampe."
   ]
  },
  {
   "cell_type": "code",
   "execution_count": 30,
   "metadata": {},
   "outputs": [
    {
     "name": "stdout",
     "output_type": "stream",
     "text": [
      "HeteroGNN(\n",
      "  (lin_proj_user): Linear(in_features=5, out_features=64, bias=True)\n",
      "  (lin_proj_item): Linear(in_features=7, out_features=64, bias=True)\n",
      "  (convs): ModuleList(\n",
      "    (0): HeteroConv(num_relations=2)\n",
      "  )\n",
      "  (edge_embedding_mlp): Sequential(\n",
      "    (0): Linear(in_features=128, out_features=32, bias=True)\n",
      "    (1): ReLU()\n",
      "    (2): Linear(in_features=32, out_features=1, bias=True)\n",
      "  )\n",
      ")\n"
     ]
    }
   ],
   "source": [
    "from torch_geometric.nn import HeteroConv, SAGEConv, GATv2Conv\n",
    "\n",
    "class HeteroGNN(torch.nn.Module):\n",
    "    def __init__(self, user_dim, item_dim, transaction_dim, hidden_dim, output_dim, num_layers):\n",
    "        super().__init__()\n",
    "        \n",
    "        self.lin_proj_user = nn.Linear(user_dim, hidden_dim)\n",
    "        self.lin_proj_item = nn.Linear(item_dim, hidden_dim)\n",
    "        \n",
    "        self.convs = nn.ModuleList()\n",
    "        for _ in range(num_layers):\n",
    "            conv = HeteroConv({\n",
    "                ('user', 'buys', 'item'): GATv2Conv((hidden_dim, hidden_dim), hidden_dim, heads=2, edge_dim=transaction_dim, concat=False, add_self_loops=False),\n",
    "                ('item', 'rev_buys', 'user'): GATv2Conv((hidden_dim, hidden_dim), hidden_dim, heads=2, edge_dim=transaction_dim, concat=False, add_self_loops=False)\n",
    "            })\n",
    "            self.convs.append(conv)\n",
    "        \n",
    "        self.edge_embedding_mlp = torch.nn.Sequential(\n",
    "            nn.Linear(hidden_dim * 2, hidden_dim // 2),\n",
    "            nn.ReLU(),\n",
    "            nn.Linear(hidden_dim // 2, 1)\n",
    "        )\n",
    "    \n",
    "    def forward(self, x_dict, edge_index_dict, edge_attr_dict):\n",
    "        # linear projections\n",
    "        for node_type, x in x_dict.items():\n",
    "            if node_type == 'user':\n",
    "                x_dict[node_type] = self.lin_proj_user(x)\n",
    "            elif node_type == 'item':\n",
    "                x_dict[node_type] = self.lin_proj_item(x)\n",
    "        \n",
    "        # message passing convolutions\n",
    "        for conv in self.convs:\n",
    "            x_dict = conv(x_dict, edge_index_dict, **{'edge_attr_dict': edge_attr_dict})\n",
    "            x_dict = {node_type: x.relu() for node_type, x in x_dict.items()}\n",
    "        \n",
    "        # edge embedding calculation\n",
    "        index_i, index_j = edge_index_dict[('user', 'buys', 'item')]\n",
    "        user_embedding_i = x_dict['user'][index_i]\n",
    "        item_embedding_j = x_dict['item'][index_j]\n",
    "        edge_embedding = torch.cat([user_embedding_i, item_embedding_j], dim=1)\n",
    "        edge_output = self.edge_embedding_mlp(edge_embedding).squeeze()\n",
    "\n",
    "        return edge_output\n",
    "\n",
    "\n",
    "model_kwargs = {\n",
    "    'user_dim': num_features_user,\n",
    "    'item_dim': num_features_item,\n",
    "    'transaction_dim': num_features_transaction,\n",
    "    'hidden_dim': 64,\n",
    "    'output_dim': 1,\n",
    "    'num_layers': 1\n",
    "}\n",
    "model = HeteroGNN(**model_kwargs)\n",
    "print(model)"
   ]
  },
  {
   "attachments": {},
   "cell_type": "markdown",
   "metadata": {},
   "source": [
    "### Train the GNN model"
   ]
  },
  {
   "cell_type": "code",
   "execution_count": 31,
   "metadata": {},
   "outputs": [],
   "source": [
    "optimizer = torch.optim.Adam(model.parameters(), lr=1e-2)\n",
    "criterion = torch.nn.MSELoss()"
   ]
  },
  {
   "cell_type": "code",
   "execution_count": 33,
   "metadata": {},
   "outputs": [],
   "source": [
    "def train():\n",
    "    model.train()\n",
    "    edge_prediction = model(data.x_dict, data.edge_index_dict, data.edge_attr_dict)\n",
    "    loss = criterion(edge_prediction, data['user', 'buys', 'item'].y)\n",
    "    loss.backward()\n",
    "    optimizer.step()\n",
    "    optimizer.zero_grad()\n",
    "    return loss.item()"
   ]
  },
  {
   "cell_type": "code",
   "execution_count": 34,
   "metadata": {},
   "outputs": [
    {
     "name": "stdout",
     "output_type": "stream",
     "text": [
      "loss: 9.126710891723633\n",
      "loss: 7.795230865478516\n",
      "loss: 6.110370635986328\n",
      "loss: 3.770066499710083\n",
      "loss: 1.7855193614959717\n",
      "loss: 3.4953787326812744\n",
      "loss: 3.292215347290039\n",
      "loss: 2.011885404586792\n",
      "loss: 1.671393871307373\n",
      "loss: 1.9974029064178467\n",
      "loss: 2.3623452186584473\n",
      "loss: 2.5033180713653564\n",
      "loss: 2.396092176437378\n",
      "loss: 2.1078011989593506\n",
      "loss: 1.7762435674667358\n",
      "loss: 1.601033329963684\n",
      "loss: 1.7315542697906494\n",
      "loss: 1.9990075826644897\n",
      "loss: 1.9539086818695068\n",
      "loss: 1.7545526027679443\n",
      "loss: 1.596360683441162\n",
      "loss: 1.5832632780075073\n",
      "loss: 1.6580525636672974\n",
      "loss: 1.726332426071167\n",
      "loss: 1.7318392992019653\n",
      "loss: 1.673172950744629\n",
      "loss: 1.590930461883545\n",
      "loss: 1.5456945896148682\n",
      "loss: 1.5712056159973145\n",
      "loss: 1.6160377264022827\n",
      "loss: 1.6124310493469238\n",
      "loss: 1.5657296180725098\n",
      "loss: 1.5256266593933105\n",
      "loss: 1.5210720300674438\n",
      "loss: 1.5403436422348022\n",
      "loss: 1.5544131994247437\n",
      "loss: 1.5461535453796387\n",
      "loss: 1.5203940868377686\n",
      "loss: 1.4970866441726685\n",
      "loss: 1.4927401542663574\n",
      "loss: 1.5033718347549438\n",
      "loss: 1.5074909925460815\n",
      "loss: 1.4933418035507202\n",
      "loss: 1.4733985662460327\n",
      "loss: 1.4643054008483887\n",
      "loss: 1.466821312904358\n",
      "loss: 1.4686299562454224\n",
      "loss: 1.4608999490737915\n",
      "loss: 1.4466979503631592\n",
      "loss: 1.436574101448059\n"
     ]
    }
   ],
   "source": [
    "loss_record = []\n",
    "for _ in range(50):\n",
    "    loss = train()\n",
    "    print(\"loss:\", loss)\n",
    "    loss_record.append(loss)"
   ]
  },
  {
   "cell_type": "code",
   "execution_count": 36,
   "metadata": {},
   "outputs": [
    {
     "data": {
      "image/png": "[encoded data removed]",
      "text/plain": [
       "<Figure size 640x480 with 1 Axes>"
      ]
     },
     "metadata": {},
     "output_type": "display_data"
    }
   ],
   "source": [
    "import matplotlib.pyplot as plt\n",
    "\n",
    "plt.plot(loss_record)\n",
    "plt.show()"
   ]
  },
  {
   "cell_type": "code",
   "execution_count": null,
   "metadata": {},
   "outputs": [],
   "source": []
  }
 ],
 "metadata": {
  "kernelspec": {
   "display_name": "pytorch",
   "language": "python",
   "name": "python3"
  },
  "language_info": {
   "codemirror_mode": {
    "name": "ipython",
    "version": 3
   },
   "file_extension": ".py",
   "mimetype": "text/x-python",
   "name": "python",
   "nbconvert_exporter": "python",
   "pygments_lexer": "ipython3",
   "version": "3.10.11"
  },
  "orig_nbformat": 4
 },
 "nbformat": 4,
 "nbformat_minor": 2
}
