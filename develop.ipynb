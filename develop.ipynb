{
 "cells": [
  {
   "cell_type": "code",
   "execution_count": 1,
   "metadata": {},
   "outputs": [],
   "source": [
    "import torch\n",
    "from torch_geometric.data import HeteroData\n",
    "import torch_geometric.transforms as T"
   ]
  },
  {
   "attachments": {},
   "cell_type": "markdown",
   "metadata": {},
   "source": [
    "reference: https://pytorch-geometric.readthedocs.io/en/latest/tutorial/heterogeneous.html"
   ]
  },
  {
   "attachments": {},
   "cell_type": "markdown",
   "metadata": {},
   "source": [
    "### Creating Heterogeneous Graph"
   ]
  },
  {
   "cell_type": "code",
   "execution_count": 2,
   "metadata": {},
   "outputs": [
    {
     "name": "stdout",
     "output_type": "stream",
     "text": [
      "HeteroData(\n",
      "  \u001b[1muser\u001b[0m={\n",
      "    x=[10, 5],\n",
      "    y=[10]\n",
      "  },\n",
      "  \u001b[1mitem\u001b[0m={ x=[100, 7] },\n",
      "  \u001b[1m(user, buys, item)\u001b[0m={\n",
      "    edge_index=[2, 100],\n",
      "    edge_attr=[100, 3]\n",
      "  },\n",
      "  \u001b[1m(item, rev_buys, user)\u001b[0m={\n",
      "    edge_index=[2, 100],\n",
      "    edge_attr=[100, 3]\n",
      "  }\n",
      ")\n"
     ]
    }
   ],
   "source": [
    "data = HeteroData()\n",
    "\n",
    "num_users = 10\n",
    "num_items = 100\n",
    "num_features_user = 5\n",
    "num_features_item = 7\n",
    "num_transactions = 100\n",
    "num_features_transaction = 3\n",
    "\n",
    "data['user'].x = torch.rand((num_users, num_features_user))\n",
    "data['item'].x = torch.rand((num_items, num_features_item))\n",
    "\n",
    "data['user'].y = torch.rand(num_users)\n",
    "\n",
    "data['user', 'buys', 'item'].edge_index = torch.stack([\n",
    "    torch.randint(high=num_users, size=(num_transactions,)),\n",
    "    torch.randint(high=num_items, size=(num_transactions,))\n",
    "])\n",
    "\n",
    "data['user', 'buys', 'item'].edge_attr = torch.rand((num_transactions, num_features_transaction))\n",
    "\n",
    "data = T.ToUndirected()(data)\n",
    "\n",
    "print(data)"
   ]
  },
  {
   "attachments": {},
   "cell_type": "markdown",
   "metadata": {},
   "source": [
    "### Creating Heterogeneous GNNs\n",
    "PyG provides three ways to create models on heterogenrous graph data:\n",
    "1. `torch_geometric.nn.to_hetero()` to convert model\n",
    "2. `conv.HeteroConv` to define individual functions for different types\n",
    "3. Deploy existing heterogeneous GNN operators\n",
    "\n",
    "For me, the second one is more clear and easy to understand, so I will use it in the following exampe."
   ]
  },
  {
   "cell_type": "code",
   "execution_count": 3,
   "metadata": {},
   "outputs": [
    {
     "name": "stdout",
     "output_type": "stream",
     "text": [
      "HeteroGNN(\n",
      "  (lin_proj_user): Linear(in_features=5, out_features=64, bias=True)\n",
      "  (lin_proj_item): Linear(in_features=7, out_features=64, bias=True)\n",
      "  (convs): ModuleList(\n",
      "    (0): HeteroConv(num_relations=2)\n",
      "  )\n",
      "  (trans_user): Linear(in_features=64, out_features=1, bias=True)\n",
      "  (trans_item): Linear(in_features=64, out_features=1, bias=True)\n",
      ")\n"
     ]
    }
   ],
   "source": [
    "from torch.nn import Linear\n",
    "from torch_geometric.nn import HeteroConv, SAGEConv, GATv2Conv\n",
    "\n",
    "class HeteroGNN(torch.nn.Module):\n",
    "    def __init__(self, user_dim, item_dim, transaction_dim, hidden_dim, output_dim, num_layers):\n",
    "        super().__init__()\n",
    "        \n",
    "        self.lin_proj_user = Linear(user_dim, hidden_dim)\n",
    "        self.lin_proj_item = Linear(item_dim, hidden_dim)\n",
    "        \n",
    "        self.convs = torch.nn.ModuleList()\n",
    "        for _ in range(num_layers):\n",
    "            conv = HeteroConv({\n",
    "                ('user', 'buys', 'item'): GATv2Conv((hidden_dim, hidden_dim), hidden_dim, heads=2, edge_dim=transaction_dim, concat=False, add_self_loops=False),\n",
    "                ('item', 'rev_buys', 'user'): GATv2Conv((hidden_dim, hidden_dim), hidden_dim, heads=2, edge_dim=transaction_dim, concat=False, add_self_loops=False)\n",
    "            })\n",
    "            self.convs.append(conv)\n",
    "        \n",
    "        self.trans_user = Linear(hidden_dim, output_dim)\n",
    "        self.trans_item = Linear(hidden_dim, output_dim)\n",
    "    \n",
    "    def forward(self, x_dict, edge_index_dict, edge_attr_dict):\n",
    "        # linear projections\n",
    "        for node_type, x in x_dict.items():\n",
    "            if node_type == 'user':\n",
    "                x_dict[node_type] = self.lin_proj_user(x)\n",
    "            elif node_type == 'item':\n",
    "                x_dict[node_type] = self.lin_proj_item(x)\n",
    "        \n",
    "        # message passing convolutions\n",
    "        for conv in self.convs:\n",
    "            x_dict = conv(x_dict, edge_index_dict, **{'edge_attr_dict': edge_attr_dict})\n",
    "            x_dict = {node_type: x.relu() for node_type, x in x_dict.items()}\n",
    "        \n",
    "        # final transformation\n",
    "        for node_type, x in x_dict.items():\n",
    "            if node_type == 'user':\n",
    "                x_dict[node_type] = self.trans_user(x)\n",
    "            elif node_type == 'item':\n",
    "                x_dict[node_type] = self.trans_item(x)\n",
    "        \n",
    "        return x_dict\n",
    "\n",
    "\n",
    "model_kwargs = {\n",
    "    'user_dim': num_features_user,\n",
    "    'item_dim': num_features_item,\n",
    "    'transaction_dim': num_features_transaction,\n",
    "    'hidden_dim': 64,\n",
    "    'output_dim': 1,\n",
    "    'num_layers': 1\n",
    "}\n",
    "model = HeteroGNN(**model_kwargs)\n",
    "print(model)"
   ]
  },
  {
   "attachments": {},
   "cell_type": "markdown",
   "metadata": {},
   "source": [
    "### Train the GNN model"
   ]
  },
  {
   "cell_type": "code",
   "execution_count": 4,
   "metadata": {},
   "outputs": [],
   "source": [
    "optimizer = torch.optim.Adam(model.parameters(), lr=1e-2)\n",
    "criterion = torch.nn.MSELoss()"
   ]
  },
  {
   "cell_type": "code",
   "execution_count": 5,
   "metadata": {},
   "outputs": [],
   "source": [
    "def train():\n",
    "    model.train()\n",
    "    out = model(data.x_dict, data.edge_index_dict, data.edge_attr_dict)\n",
    "    loss = criterion(out['user'], data['user'].y)\n",
    "    loss.backward()\n",
    "    optimizer.step()\n",
    "    optimizer.zero_grad()\n",
    "    return loss.item()"
   ]
  },
  {
   "cell_type": "code",
   "execution_count": 6,
   "metadata": {},
   "outputs": [
    {
     "name": "stdout",
     "output_type": "stream",
     "text": [
      "loss: 0.21485908329486847\n",
      "loss: 0.07983535528182983\n",
      "loss: 0.11337228119373322\n",
      "loss: 0.07990975677967072\n",
      "loss: 0.07652679830789566\n",
      "loss: 0.08771631121635437\n",
      "loss: 0.08302462846040726\n",
      "loss: 0.075295589864254\n",
      "loss: 0.07203982025384903\n",
      "loss: 0.07357750087976456\n",
      "loss: 0.07580696791410446\n",
      "loss: 0.0754125565290451\n",
      "loss: 0.07335960865020752\n",
      "loss: 0.07201997190713882\n",
      "loss: 0.0723147764801979\n",
      "loss: 0.07340380549430847\n",
      "loss: 0.07398568838834763\n",
      "loss: 0.07355700433254242\n",
      "loss: 0.07258424907922745\n",
      "loss: 0.07191876322031021\n",
      "loss: 0.07252563536167145\n",
      "loss: 0.0726461410522461\n",
      "loss: 0.07248736917972565\n",
      "loss: 0.07222715020179749\n",
      "loss: 0.07194845378398895\n",
      "loss: 0.07190568745136261\n",
      "loss: 0.07206843048334122\n",
      "loss: 0.07221324741840363\n",
      "loss: 0.07218138128519058\n",
      "loss: 0.07201619446277618\n",
      "loss: 0.07188393175601959\n",
      "loss: 0.07189557701349258\n",
      "loss: 0.07200057804584503\n",
      "loss: 0.07205481827259064\n",
      "loss: 0.07199304550886154\n",
      "loss: 0.07189063727855682\n",
      "loss: 0.07185521721839905\n",
      "loss: 0.07190173864364624\n",
      "loss: 0.0719546303153038\n",
      "loss: 0.0719461739063263\n",
      "loss: 0.07188747078180313\n",
      "loss: 0.0718439593911171\n",
      "loss: 0.07185516506433487\n",
      "loss: 0.07189222425222397\n",
      "loss: 0.07190046459436417\n",
      "loss: 0.07186868041753769\n",
      "loss: 0.07183641940355301\n",
      "loss: 0.07183720916509628\n",
      "loss: 0.0718592181801796\n",
      "loss: 0.07186773419380188\n"
     ]
    },
    {
     "name": "stderr",
     "output_type": "stream",
     "text": [
      "/opt/miniconda3/envs/pytorch/lib/python3.8/site-packages/torch/nn/modules/loss.py:530: UserWarning: Using a target size (torch.Size([10])) that is different to the input size (torch.Size([10, 1])). This will likely lead to incorrect results due to broadcasting. Please ensure they have the same size.\n",
      "  return F.mse_loss(input, target, reduction=self.reduction)\n"
     ]
    }
   ],
   "source": [
    "loss_record = []\n",
    "for _ in range(50):\n",
    "    loss = train()\n",
    "    print(\"loss:\", loss)\n",
    "    loss_record.append(loss)"
   ]
  },
  {
   "cell_type": "code",
   "execution_count": 7,
   "metadata": {},
   "outputs": [
    {
     "data": {
      "image/png": "[encoded data removed]",
      "text/plain": [
       "<Figure size 432x288 with 1 Axes>"
      ]
     },
     "metadata": {
      "needs_background": "light"
     },
     "output_type": "display_data"
    }
   ],
   "source": [
    "import matplotlib.pyplot as plt\n",
    "\n",
    "plt.plot(loss_record)\n",
    "plt.show()"
   ]
  },
  {
   "cell_type": "code",
   "execution_count": null,
   "metadata": {},
   "outputs": [],
   "source": []
  }
 ],
 "metadata": {
  "kernelspec": {
   "display_name": "pytorch",
   "language": "python",
   "name": "python3"
  },
  "language_info": {
   "codemirror_mode": {
    "name": "ipython",
    "version": 3
   },
   "file_extension": ".py",
   "mimetype": "text/x-python",
   "name": "python",
   "nbconvert_exporter": "python",
   "pygments_lexer": "ipython3",
   "version": "3.8.13"
  },
  "orig_nbformat": 4
 },
 "nbformat": 4,
 "nbformat_minor": 2
}
