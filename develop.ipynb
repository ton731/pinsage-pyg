{
 "cells": [
  {
   "cell_type": "code",
   "execution_count": 1,
   "metadata": {},
   "outputs": [
    {
     "name": "stderr",
     "output_type": "stream",
     "text": [
      "/opt/anaconda3/envs/taelor-backend/lib/python3.10/site-packages/tqdm/auto.py:21: TqdmWarning: IProgress not found. Please update jupyter and ipywidgets. See https://ipywidgets.readthedocs.io/en/stable/user_install.html\n",
      "  from .autonotebook import tqdm as notebook_tqdm\n"
     ]
    }
   ],
   "source": [
    "import torch\n",
    "import torch.nn as nn\n",
    "from torch_geometric.data import HeteroData\n",
    "import torch_geometric.transforms as T"
   ]
  },
  {
   "attachments": {},
   "cell_type": "markdown",
   "metadata": {},
   "source": [
    "reference: https://pytorch-geometric.readthedocs.io/en/latest/tutorial/heterogeneous.html"
   ]
  },
  {
   "attachments": {},
   "cell_type": "markdown",
   "metadata": {},
   "source": [
    "### Creating Heterogeneous Graph"
   ]
  },
  {
   "cell_type": "code",
   "execution_count": 2,
   "metadata": {},
   "outputs": [
    {
     "name": "stdout",
     "output_type": "stream",
     "text": [
      "HeteroData(\n",
      "  \u001b[1muser\u001b[0m={ x=[100, 9] },\n",
      "  \u001b[1mitem\u001b[0m={ x=[1000, 12] },\n",
      "  \u001b[1m(user, buys, item)\u001b[0m={\n",
      "    edge_index=[2, 1000],\n",
      "    y=[1000]\n",
      "  },\n",
      "  \u001b[1m(item, rev_buys, user)\u001b[0m={\n",
      "    edge_index=[2, 1000],\n",
      "    y=[1000]\n",
      "  }\n",
      ")\n"
     ]
    }
   ],
   "source": [
    "data = HeteroData()\n",
    "\n",
    "num_users = 100\n",
    "num_items = 1000\n",
    "num_features_user = 9\n",
    "num_features_item = 12\n",
    "num_transactions = 1000\n",
    "\n",
    "data[\"user\"].x = torch.rand((num_users, num_features_user))\n",
    "data[\"item\"].x = torch.rand((num_items, num_features_item))\n",
    "\n",
    "data[\"user\", \"buys\", \"item\"].edge_index = torch.stack(\n",
    "    [\n",
    "        torch.randint(high=num_users, size=(num_transactions,)),\n",
    "        torch.randint(high=num_items, size=(num_transactions,)),\n",
    "    ]\n",
    ")\n",
    "\n",
    "data[\"user\", \"buys\", \"item\"].y = torch.randint(\n",
    "    low=1, high=6, size=(num_transactions,)\n",
    ").to(torch.float)\n",
    "\n",
    "data = T.ToUndirected()(data)\n",
    "\n",
    "print(data)"
   ]
  },
  {
   "cell_type": "markdown",
   "metadata": {},
   "source": [
    "### Data Splitting"
   ]
  },
  {
   "cell_type": "code",
   "execution_count": 3,
   "metadata": {},
   "outputs": [],
   "source": [
    "import random\n",
    "from torch_geometric.utils import index_to_mask\n",
    "from torch_geometric.utils import select\n",
    "\n",
    "\n",
    "def edge_splitting(data: HeteroData, split_ratio=[0.7, 0.2, 0.1]) -> HeteroData:\n",
    "    edge_num = data[\"user\", \"buys\", \"item\"].edge_index.shape[1]\n",
    "    edge_idxs = list(range(edge_num))\n",
    "    random.shuffle(edge_idxs)\n",
    "\n",
    "    # split edge index\n",
    "    train_ratio, valid_ratio, test_ratio = split_ratio\n",
    "    assert (\n",
    "        abs(train_ratio + valid_ratio + test_ratio - 1.0) < 1e-3\n",
    "    ), \"The sum ratio of train/valid/test should be 1!\"\n",
    "    train_num = int(edge_num * train_ratio)\n",
    "    valid_num = int(edge_num * valid_ratio)\n",
    "    test_num = edge_num - train_num - valid_num\n",
    "    train_index = torch.tensor(edge_idxs[:train_num])\n",
    "    valid_index = torch.tensor(edge_idxs[train_num:-test_num])\n",
    "    test_index = torch.tensor(edge_idxs[-test_num:])\n",
    "\n",
    "    # convert index to mask\n",
    "    train_mask = index_to_mask(train_index, size=edge_num)\n",
    "    valid_mask = index_to_mask(valid_index, size=edge_num)\n",
    "    test_mask = index_to_mask(test_index, size=edge_num)\n",
    "    assert torch.all((train_mask + valid_mask + test_mask + 0) == torch.ones(edge_num))\n",
    "    data[\"user\", \"buys\", \"item\"].train_mask = train_mask\n",
    "    data[\"user\", \"buys\", \"item\"].valid_mask = valid_mask\n",
    "    data[\"user\", \"buys\", \"item\"].test_mask = test_mask\n",
    "\n",
    "    # split the label y on edges\n",
    "    data[\"user\", \"buys\", \"item\"].y_train = select(\n",
    "        data[\"user\", \"buys\", \"item\"].y,\n",
    "        index_or_mask=data[\"user\", \"buys\", \"item\"].train_mask,\n",
    "        dim=0,\n",
    "    )\n",
    "    data[\"user\", \"buys\", \"item\"].y_valid = select(\n",
    "        data[\"user\", \"buys\", \"item\"].y,\n",
    "        index_or_mask=data[\"user\", \"buys\", \"item\"].valid_mask,\n",
    "        dim=0,\n",
    "    )\n",
    "    data[\"user\", \"buys\", \"item\"].y_test = select(\n",
    "        data[\"user\", \"buys\", \"item\"].y,\n",
    "        index_or_mask=data[\"user\", \"buys\", \"item\"].test_mask,\n",
    "        dim=0,\n",
    "    )\n",
    "\n",
    "    return data"
   ]
  },
  {
   "cell_type": "code",
   "execution_count": 4,
   "metadata": {},
   "outputs": [
    {
     "name": "stdout",
     "output_type": "stream",
     "text": [
      "HeteroData(\n",
      "  \u001b[1muser\u001b[0m={ x=[100, 9] },\n",
      "  \u001b[1mitem\u001b[0m={ x=[1000, 12] },\n",
      "  \u001b[1m(user, buys, item)\u001b[0m={\n",
      "    edge_index=[2, 1000],\n",
      "    y=[1000],\n",
      "    train_mask=[1000],\n",
      "    valid_mask=[1000],\n",
      "    test_mask=[1000],\n",
      "    y_train=[700],\n",
      "    y_valid=[200],\n",
      "    y_test=[100]\n",
      "  },\n",
      "  \u001b[1m(item, rev_buys, user)\u001b[0m={\n",
      "    edge_index=[2, 1000],\n",
      "    y=[1000]\n",
      "  }\n",
      ")\n"
     ]
    }
   ],
   "source": [
    "data = edge_splitting(data, [0.7, 0.2, 0.1])\n",
    "print(data)"
   ]
  },
  {
   "attachments": {},
   "cell_type": "markdown",
   "metadata": {},
   "source": [
    "### Creating Heterogeneous GNNs\n",
    "PyG provides three ways to create models on heterogenrous graph data:\n",
    "1. `torch_geometric.nn.to_hetero()` to convert model\n",
    "2. `conv.HeteroConv` to define individual functions for different types\n",
    "3. Deploy existing heterogeneous GNN operators\n",
    "\n",
    "For me, the second one is more clear and easy to understand, so I will use it in the following exampe."
   ]
  },
  {
   "cell_type": "code",
   "execution_count": 5,
   "metadata": {},
   "outputs": [
    {
     "name": "stdout",
     "output_type": "stream",
     "text": [
      "HeteroGNN(\n",
      "  (lin_proj_user): Linear(in_features=9, out_features=64, bias=True)\n",
      "  (lin_proj_item): Linear(in_features=12, out_features=64, bias=True)\n",
      "  (convs): ModuleList(\n",
      "    (0): HeteroConv(num_relations=2)\n",
      "  )\n",
      "  (edge_embedding_mlp): Sequential(\n",
      "    (0): Linear(in_features=128, out_features=32, bias=True)\n",
      "    (1): ReLU()\n",
      "    (2): Linear(in_features=32, out_features=1, bias=True)\n",
      "  )\n",
      ")\n"
     ]
    }
   ],
   "source": [
    "from torch_geometric.nn import HeteroConv, SAGEConv, GATv2Conv\n",
    "\n",
    "\n",
    "class HeteroGNN(torch.nn.Module):\n",
    "    def __init__(self, user_dim, item_dim, hidden_dim, num_layers):\n",
    "        super().__init__()\n",
    "\n",
    "        self.lin_proj_user = nn.Linear(user_dim, hidden_dim)\n",
    "        self.lin_proj_item = nn.Linear(item_dim, hidden_dim)\n",
    "\n",
    "        self.convs = nn.ModuleList()\n",
    "        for _ in range(num_layers):\n",
    "            conv = HeteroConv(\n",
    "                {\n",
    "                    (\"user\", \"buys\", \"item\"): GATv2Conv(\n",
    "                        (hidden_dim, hidden_dim),\n",
    "                        hidden_dim,\n",
    "                        heads=2,\n",
    "                        concat=False,\n",
    "                        add_self_loops=False,\n",
    "                    ),\n",
    "                    (\"item\", \"rev_buys\", \"user\"): GATv2Conv(\n",
    "                        (hidden_dim, hidden_dim),\n",
    "                        hidden_dim,\n",
    "                        heads=2,\n",
    "                        concat=False,\n",
    "                        add_self_loops=False,\n",
    "                    ),\n",
    "                }\n",
    "            )\n",
    "            self.convs.append(conv)\n",
    "\n",
    "        self.edge_embedding_mlp = torch.nn.Sequential(\n",
    "            nn.Linear(hidden_dim * 2, hidden_dim // 2),\n",
    "            nn.ReLU(),\n",
    "            nn.Linear(hidden_dim // 2, 1),\n",
    "        )\n",
    "\n",
    "    def forward(\n",
    "        self, x_dict, edge_index_dict, message_passing_edge_mask, target_edge_mask\n",
    "    ):\n",
    "        # linear projections\n",
    "        for node_type, x in x_dict.items():\n",
    "            if node_type == \"user\":\n",
    "                x_dict[node_type] = self.lin_proj_user(x)\n",
    "            elif node_type == \"item\":\n",
    "                x_dict[node_type] = self.lin_proj_item(x)\n",
    "\n",
    "        # message passing mask is used for GNN message passing\n",
    "        message_passing_edge_index_dict = {}\n",
    "        for edge_type, edge_index in edge_index_dict.items():\n",
    "            message_passing_edge_index_dict[edge_type] = select(\n",
    "                edge_index,\n",
    "                index_or_mask=message_passing_edge_mask,\n",
    "                dim=1,\n",
    "            )\n",
    "\n",
    "        # message passing convolutions\n",
    "        for conv in self.convs:\n",
    "            x_dict = conv(x_dict, message_passing_edge_index_dict)\n",
    "            x_dict = {node_type: x.relu() for node_type, x in x_dict.items()}\n",
    "\n",
    "        # target mask is used for final target prediction\n",
    "        # for example, in validation stage,\n",
    "        # messge_passing_edge_mask = train_mask + valid_mask\n",
    "        # target_edge_mask = valid_mask\n",
    "        target_edge_index_dict = {}\n",
    "        for edge_type, edge_index in edge_index_dict.items():\n",
    "            target_edge_index_dict[edge_type] = select(\n",
    "                edge_index,\n",
    "                index_or_mask=target_edge_mask,\n",
    "                dim=1,\n",
    "            )\n",
    "\n",
    "        # edge embedding calculation\n",
    "        index_i, index_j = target_edge_index_dict[(\"user\", \"buys\", \"item\")]\n",
    "        user_embedding_i = x_dict[\"user\"][index_i]\n",
    "        item_embedding_j = x_dict[\"item\"][index_j]\n",
    "        edge_embedding = torch.cat([user_embedding_i, item_embedding_j], dim=1)\n",
    "        edge_output = self.edge_embedding_mlp(edge_embedding).squeeze()\n",
    "\n",
    "        return edge_output\n",
    "\n",
    "\n",
    "model_kwargs = {\n",
    "    \"user_dim\": num_features_user,\n",
    "    \"item_dim\": num_features_item,\n",
    "    \"hidden_dim\": 64,\n",
    "    \"num_layers\": 1,\n",
    "}\n",
    "model = HeteroGNN(**model_kwargs)\n",
    "print(model)"
   ]
  },
  {
   "attachments": {},
   "cell_type": "markdown",
   "metadata": {},
   "source": [
    "### Train the GNN model"
   ]
  },
  {
   "cell_type": "code",
   "execution_count": 6,
   "metadata": {},
   "outputs": [],
   "source": [
    "optimizer = torch.optim.Adam(model.parameters(), lr=1e-2)\n",
    "criterion = torch.nn.MSELoss()"
   ]
  },
  {
   "cell_type": "code",
   "execution_count": 7,
   "metadata": {},
   "outputs": [],
   "source": [
    "def train():\n",
    "    model.train()\n",
    "    edge_prediction = model(\n",
    "        data.x_dict,\n",
    "        data.edge_index_dict,\n",
    "        message_passing_edge_mask=data[\"user\", \"buys\", \"item\"].train_mask,\n",
    "        target_edge_mask=data[\"user\", \"buys\", \"item\"].train_mask,\n",
    "    )\n",
    "    loss = criterion(edge_prediction, data[\"user\", \"buys\", \"item\"].y_train)\n",
    "    loss.backward()\n",
    "    optimizer.step()\n",
    "    optimizer.zero_grad()\n",
    "    \n",
    "    return loss.item()"
   ]
  },
  {
   "cell_type": "code",
   "execution_count": 8,
   "metadata": {},
   "outputs": [],
   "source": [
    "@torch.no_grad()\n",
    "def test(mode=\"valid\"):\n",
    "    model.eval()\n",
    "\n",
    "    if mode == \"valid\":\n",
    "        message_passing_edge_mask = (\n",
    "            data[\"user\", \"buys\", \"item\"].train_mask\n",
    "            + data[\"user\", \"buys\", \"item\"].valid_mask\n",
    "        )\n",
    "        target_edge_mask = data[\"user\", \"buys\", \"item\"].valid_mask\n",
    "        y = data[\"user\", \"buys\", \"item\"].y_valid\n",
    "\n",
    "    elif mode == \"test\":\n",
    "        message_passing_edge_mask = (\n",
    "            data[\"user\", \"buys\", \"item\"].train_mask\n",
    "            + data[\"user\", \"buys\", \"item\"].valid_mask\n",
    "            + data[\"user\", \"buys\", \"item\"].test_mask\n",
    "        )\n",
    "        target_edge_mask = data[\"user\", \"buys\", \"item\"].test_mask\n",
    "        y = data[\"user\", \"buys\", \"item\"].y_test\n",
    "    \n",
    "    edge_prediction = model(\n",
    "        data.x_dict,\n",
    "        data.edge_index_dict,\n",
    "        message_passing_edge_mask=message_passing_edge_mask,\n",
    "        target_edge_mask=target_edge_mask,\n",
    "    )\n",
    "    loss = criterion(edge_prediction, y)\n",
    "\n",
    "    return loss.item()"
   ]
  },
  {
   "cell_type": "code",
   "execution_count": 9,
   "metadata": {},
   "outputs": [
    {
     "name": "stdout",
     "output_type": "stream",
     "text": [
      "loss: 10.716692924499512 9.577590942382812 10.188158988952637\n",
      "loss: 9.380799293518066 7.3546223640441895 7.921782970428467\n",
      "loss: 7.21359920501709 4.291996479034424 4.7723541259765625\n",
      "loss: 4.249305725097656 1.9389609098434448 2.214446783065796\n",
      "loss: 2.0639138221740723 4.868930339813232 4.790042877197266\n",
      "loss: 5.192019939422607 3.4877212047576904 3.5016868114471436\n",
      "loss: 3.7687628269195557 2.0146684646606445 2.2034506797790527\n",
      "loss: 2.19281005859375 2.128236770629883 2.45086932182312\n",
      "loss: 2.2098522186279297 2.80021333694458 3.1959378719329834\n",
      "loss: 2.821308135986328 3.2304370403289795 3.6568076610565186\n",
      "loss: 3.2248687744140625 3.250209331512451 3.679365873336792\n",
      "loss: 3.2424232959747314 2.9371416568756104 3.3476903438568115\n",
      "loss: 2.9457199573516846 2.4532430171966553 2.8239684104919434\n",
      "loss: 2.495154857635498 2.0324621200561523 2.3422293663024902\n",
      "loss: 2.120666742324829 1.9095730781555176 2.1464474201202393\n",
      "loss: 2.0491394996643066 2.1044509410858154 2.268929958343506\n",
      "loss: 2.288865327835083 2.312380075454712 2.4392337799072266\n",
      "loss: 2.5195071697235107 2.2556989192962646 2.3930630683898926\n",
      "loss: 2.4574224948883057 2.037838935852051 2.2221808433532715\n",
      "loss: 2.2128093242645264 1.9052413702011108 2.1486330032348633\n",
      "loss: 2.0445809364318848 1.9384205341339111 2.2341814041137695\n",
      "loss: 2.044063091278076 2.0591166019439697 2.392395257949829\n",
      "loss: 2.140202522277832 2.1630313396453857 2.5173559188842773\n",
      "loss: 2.2304232120513916 2.189880609512329 2.5496957302093506\n",
      "loss: 2.2538909912109375 2.132647752761841 2.484503746032715\n",
      "loss: 2.20281982421875 2.026693820953369 2.3581321239471436\n",
      "loss: 2.110867738723755 1.929866909980774 2.230727434158325\n",
      "loss: 2.033557415008545 1.8937582969665527 2.1580240726470947\n",
      "loss: 2.0194315910339355 1.924971342086792 2.1575498580932617\n",
      "loss: 2.0693819522857666 1.9667986631393433 2.1816298961639404\n",
      "loss: 2.1203227043151855 1.9656044244766235 2.182370185852051\n",
      "loss: 2.1178951263427734 1.9261138439178467 2.1610779762268066\n",
      "loss: 2.068324565887451 1.8933534622192383 2.1549265384674072\n",
      "loss: 2.019151449203491 1.8982161283493042 2.1871674060821533\n",
      "loss: 2.0063059329986572 1.9331930875778198 2.2443840503692627\n",
      "loss: 2.0263357162475586 1.9685986042022705 2.293710231781006\n",
      "loss: 2.0520191192626953 1.9794986248016357 2.3086209297180176\n",
      "loss: 2.0591354370117188 1.9603732824325562 2.2833547592163086\n",
      "loss: 2.041779041290283 1.9250140190124512 2.2326323986053467\n",
      "loss: 2.012576103210449 1.896738886833191 2.1818151473999023\n",
      "loss: 1.993313193321228 1.8916891813278198 2.15462327003479\n",
      "loss: 1.9980878829956055 1.9024553298950195 2.1506574153900146\n",
      "loss: 2.0137434005737305 1.9054467678070068 2.150561809539795\n",
      "loss: 2.015202522277832 1.8959038257598877 2.1526272296905518\n",
      "loss: 1.9985826015472412 1.891539454460144 2.168208122253418\n",
      "loss: 1.983446717262268 1.9099926948547363 2.2096505165100098\n",
      "loss: 1.989059567451477 1.9189265966415405 2.224482774734497\n",
      "loss: 1.9928313493728638 1.9108718633651733 2.2107656002044678\n",
      "loss: 1.9852898120880127 1.9020390510559082 2.1931684017181396\n",
      "loss: 1.9780385494232178 1.8959022760391235 2.175791025161743\n"
     ]
    }
   ],
   "source": [
    "train_loss_record = []\n",
    "valid_loss_record = []\n",
    "test_loss_record = []\n",
    "for _ in range(50):\n",
    "    train_loss = train()\n",
    "    valid_loss = test(mode=\"valid\")\n",
    "    test_loss = test(mode=\"test\")\n",
    "    print(\"loss:\", train_loss, valid_loss, test_loss)\n",
    "    train_loss_record.append(train_loss)\n",
    "    valid_loss_record.append(valid_loss)\n",
    "    test_loss_record.append(test_loss)"
   ]
  },
  {
   "cell_type": "code",
   "execution_count": 10,
   "metadata": {},
   "outputs": [
    {
     "data": {
      "image/png": "[encoded data removed]",
      "text/plain": [
       "<Figure size 640x480 with 1 Axes>"
      ]
     },
     "metadata": {},
     "output_type": "display_data"
    }
   ],
   "source": [
    "import matplotlib.pyplot as plt\n",
    "\n",
    "plt.plot(train_loss_record, label=\"train\")\n",
    "plt.plot(valid_loss_record, label=\"valid\")\n",
    "plt.plot(test_loss_record, label=\"test\")\n",
    "plt.legend()\n",
    "plt.show()"
   ]
  },
  {
   "cell_type": "code",
   "execution_count": null,
   "metadata": {},
   "outputs": [],
   "source": []
  }
 ],
 "metadata": {
  "kernelspec": {
   "display_name": "pytorch",
   "language": "python",
   "name": "python3"
  },
  "language_info": {
   "codemirror_mode": {
    "name": "ipython",
    "version": 3
   },
   "file_extension": ".py",
   "mimetype": "text/x-python",
   "name": "python",
   "nbconvert_exporter": "python",
   "pygments_lexer": "ipython3",
   "version": "3.10.11"
  },
  "orig_nbformat": 4
 },
 "nbformat": 4,
 "nbformat_minor": 2
}
